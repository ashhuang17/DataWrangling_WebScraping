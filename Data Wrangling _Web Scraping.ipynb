{
 "cells": [
  {
   "cell_type": "markdown",
   "metadata": {},
   "source": [
    "# <span style=color:navy> Web Scraping - IMDB or Metacritic?</span>\n",
    "\n",
    "\n",
    "*Present by Ashlea Pin-Jui Huang*"
   ]
  },
  {
   "cell_type": "markdown",
   "metadata": {},
   "source": [
    "![alt text](https://kutv.com/resources/media/2b2d773c-082d-4295-ae21-c00e1fd98f2b-large16x9_Favoritesof2019B.jpg)"
   ]
  },
  {
   "cell_type": "markdown",
   "metadata": {},
   "source": [
    "### Objective\n",
    "\n",
    "Who doesn't like movies? We all enjojy watching movies every now and then? Before deciding to watch a movie. Most people tend to check on the movie rating before making a decision. The Ineternet Movie Database aka IMDB is a website that contains a huge amount of data on films including summary of the film, casts, ratings, genres, released year and so on. \n",
    "\n",
    "However, IMDB isn't the only website that offer us database of world cinema. There are also popular websites such as rotten tomatoes and metacritic. As being a movie lover myself, I think it would be interesting to explore the movie scores between IMDB and metacritic.\n",
    "\n",
    "My goal here is to examine the data we grab from webscraping, see the comparison between the two and find out which website has more reliable information when it comes to movie scores. I will be working on the movies from 2019, and since IMDB already has the movie scores from metacritic, we will use IMDB for web scraping and exploration.\n"
   ]
  },
  {
   "cell_type": "markdown",
   "metadata": {},
   "source": [
    "### Data Mining"
   ]
  },
  {
   "cell_type": "code",
   "execution_count": 387,
   "metadata": {},
   "outputs": [],
   "source": [
    "import pandas as pd\n",
    "from bs4 import BeautifulSoup\n",
    "from requests import get\n",
    "import matplotlib.pyplot as plt\n",
    "import seaborn as sns\n",
    "from time import sleep\n",
    "from random import randint\n",
    "import numpy\n",
    "from numpy import arange"
   ]
  },
  {
   "cell_type": "markdown",
   "metadata": {},
   "source": [
    "As usual, let's first load the data. Since there will be a lot of text, I will only print out the first 500."
   ]
  },
  {
   "cell_type": "code",
   "execution_count": 310,
   "metadata": {},
   "outputs": [
    {
     "name": "stdout",
     "output_type": "stream",
     "text": [
      "\n",
      "\n",
      "\n",
      "<!DOCTYPE html>\n",
      "<html\n",
      "    xmlns:og=\"http://ogp.me/ns#\"\n",
      "    xmlns:fb=\"http://www.facebook.com/2008/fbml\">\n",
      "    <head>\n",
      "         \n",
      "        <meta charset=\"utf-8\">\n",
      "        <meta http-equiv=\"X-UA-Compatible\" content=\"IE=edge\">\n",
      "\n",
      "    <meta name=\"apple-itunes-app\" content=\"app-id=342792525, app-argument=imdb:///?src=mdot\">\n",
      "\n",
      "\n",
      "\n",
      "        <script type=\"text/javascript\">var IMDbTimer={starttime: new Date().getTime(),pt:'java'};</script>\n",
      "\n",
      "<script>\n",
      "    if (typeof uet == 'function') {\n",
      "      uet(\"bb\", \"LoadTitle\"\n"
     ]
    }
   ],
   "source": [
    "url = 'http://www.imdb.com/search/title?release_date=2019&sort=num_votes,desc&page=1'\n",
    "response = get(url)\n",
    "print(response.text[:500])"
   ]
  },
  {
   "cell_type": "markdown",
   "metadata": {},
   "source": [
    "Let's first start with the first page and see what we are dealing with."
   ]
  },
  {
   "cell_type": "code",
   "execution_count": 311,
   "metadata": {},
   "outputs": [
    {
     "name": "stdout",
     "output_type": "stream",
     "text": [
      "50\n"
     ]
    }
   ],
   "source": [
    "soup = BeautifulSoup(response.text, 'lxml')\n",
    "container = soup.find_all('div', class_ = 'lister-item mode-advanced')\n",
    "print(len(container))"
   ]
  },
  {
   "cell_type": "markdown",
   "metadata": {},
   "source": [
    "According to the page, it looks like we have 50 matches for the containers. I am going to inspect the first movie on this page first to see if I can successfully grab the information I need."
   ]
  },
  {
   "cell_type": "code",
   "execution_count": 312,
   "metadata": {},
   "outputs": [
    {
     "name": "stdout",
     "output_type": "stream",
     "text": [
      "13\n"
     ]
    }
   ],
   "source": [
    "first_page = soup.find('div', class_ = 'lister-item-content')\n",
    "print(len(first_page))"
   ]
  },
  {
   "cell_type": "code",
   "execution_count": 313,
   "metadata": {},
   "outputs": [
    {
     "data": {
      "text/plain": [
       "<div class=\"ratings-bar\">\n",
       "<div class=\"inline-block ratings-imdb-rating\" data-value=\"8.6\" name=\"ir\">\n",
       "<span class=\"global-sprite rating-star imdb-rating\"></span>\n",
       "<strong>8.6</strong>\n",
       "</div>\n",
       "<div class=\"inline-block ratings-user-rating\">\n",
       "<span class=\"userRatingValue\" data-tconst=\"tt7286456\" id=\"urv_tt7286456\">\n",
       "<span class=\"global-sprite rating-star no-rating\"></span>\n",
       "<span class=\"rate\" data-no-rating=\"Rate this\" data-value=\"0\" name=\"ur\">Rate this</span>\n",
       "</span>\n",
       "<div class=\"starBarWidget\" id=\"sb_tt7286456\">\n",
       "<div class=\"rating rating-list\" data-auth=\"\" data-ga-identifier=\"\" data-starbar-class=\"rating-list\" data-user=\"\" id=\"tt7286456|imdb|8.6|8.6|||advsearch|title\" itemprop=\"aggregateRating\" itemscope=\"\" itemtype=\"http://schema.org/AggregateRating\" title=\"Users rated this 8.6/10 (669,072 votes) - click stars to rate\">\n",
       "<meta content=\"8.6\" itemprop=\"ratingValue\"/>\n",
       "<meta content=\"10\" itemprop=\"bestRating\"/>\n",
       "<meta content=\"669072\" itemprop=\"ratingCount\"/>\n",
       "<span class=\"rating-bg\"> </span>\n",
       "<span class=\"rating-imdb\" style=\"width: 120.4px\"> </span>\n",
       "<span class=\"rating-stars\">\n",
       "<a href=\"/register/login?why=vote\" rel=\"nofollow\" title=\"Register or login to rate this title\"><span>1</span></a>\n",
       "<a href=\"/register/login?why=vote\" rel=\"nofollow\" title=\"Register or login to rate this title\"><span>2</span></a>\n",
       "<a href=\"/register/login?why=vote\" rel=\"nofollow\" title=\"Register or login to rate this title\"><span>3</span></a>\n",
       "<a href=\"/register/login?why=vote\" rel=\"nofollow\" title=\"Register or login to rate this title\"><span>4</span></a>\n",
       "<a href=\"/register/login?why=vote\" rel=\"nofollow\" title=\"Register or login to rate this title\"><span>5</span></a>\n",
       "<a href=\"/register/login?why=vote\" rel=\"nofollow\" title=\"Register or login to rate this title\"><span>6</span></a>\n",
       "<a href=\"/register/login?why=vote\" rel=\"nofollow\" title=\"Register or login to rate this title\"><span>7</span></a>\n",
       "<a href=\"/register/login?why=vote\" rel=\"nofollow\" title=\"Register or login to rate this title\"><span>8</span></a>\n",
       "<a href=\"/register/login?why=vote\" rel=\"nofollow\" title=\"Register or login to rate this title\"><span>9</span></a>\n",
       "<a href=\"/register/login?why=vote\" rel=\"nofollow\" title=\"Register or login to rate this title\"><span>10</span></a>\n",
       "</span>\n",
       "<span class=\"rating-rating\"><span class=\"value\">8.6</span><span class=\"grey\">/</span><span class=\"grey\">10</span></span>\n",
       "<span class=\"rating-cancel\"><a href=\"/title/tt7286456/vote?v=X;k=\" rel=\"nofollow\" title=\"Delete\"><span>X</span></a></span>\n",
       " </div>\n",
       "</div>\n",
       "</div>\n",
       "<div class=\"inline-block ratings-metascore\">\n",
       "<span class=\"metascore mixed\">59        </span>\n",
       "        Metascore\n",
       "            </div>\n",
       "</div>"
      ]
     },
     "execution_count": 313,
     "metadata": {},
     "output_type": "execute_result"
    }
   ],
   "source": [
    "first_page.div"
   ]
  },
  {
   "cell_type": "markdown",
   "metadata": {},
   "source": [
    "As seen above, these are all the information contained in div class. I can see that joker is the first movie, I am going to extract that out."
   ]
  },
  {
   "cell_type": "code",
   "execution_count": 328,
   "metadata": {
    "scrolled": false
   },
   "outputs": [
    {
     "data": {
      "text/plain": [
       "<h3 class=\"lister-item-header\">\n",
       "<span class=\"lister-item-index unbold text-primary\">1.</span>\n",
       "<a href=\"/title/tt7286456/\">Joker</a>\n",
       "<span class=\"lister-item-year text-muted unbold\">(2019)</span>\n",
       "</h3>"
      ]
     },
     "execution_count": 328,
     "metadata": {},
     "output_type": "execute_result"
    }
   ],
   "source": [
    "#movie name\n",
    "first_page.h3"
   ]
  },
  {
   "cell_type": "code",
   "execution_count": 315,
   "metadata": {},
   "outputs": [
    {
     "data": {
      "text/plain": [
       "<a href=\"/title/tt7286456/\">Joker</a>"
      ]
     },
     "execution_count": 315,
     "metadata": {},
     "output_type": "execute_result"
    }
   ],
   "source": [
    "first_page.h3.a"
   ]
  },
  {
   "cell_type": "code",
   "execution_count": 327,
   "metadata": {
    "scrolled": true
   },
   "outputs": [
    {
     "data": {
      "text/plain": [
       "'Joker'"
      ]
     },
     "execution_count": 327,
     "metadata": {},
     "output_type": "execute_result"
    }
   ],
   "source": [
    "first_name = first_page.h3.a.text\n",
    "first_name"
   ]
  },
  {
   "cell_type": "code",
   "execution_count": 325,
   "metadata": {
    "scrolled": true
   },
   "outputs": [
    {
     "data": {
      "text/plain": [
       "<span class=\"lister-item-year text-muted unbold\">(2019)</span>"
      ]
     },
     "execution_count": 325,
     "metadata": {},
     "output_type": "execute_result"
    }
   ],
   "source": [
    "#year released\n",
    "first_year = first_page.h3.find('span', class_ = 'lister-item-year text-muted unbold')\n",
    "first_year"
   ]
  },
  {
   "cell_type": "code",
   "execution_count": 326,
   "metadata": {},
   "outputs": [
    {
     "data": {
      "text/plain": [
       "'(2019)'"
      ]
     },
     "execution_count": 326,
     "metadata": {},
     "output_type": "execute_result"
    }
   ],
   "source": [
    "first_year = first_year.text\n",
    "first_year"
   ]
  },
  {
   "cell_type": "code",
   "execution_count": 319,
   "metadata": {},
   "outputs": [
    {
     "data": {
      "text/plain": [
       "'8.6'"
      ]
     },
     "execution_count": 319,
     "metadata": {},
     "output_type": "execute_result"
    }
   ],
   "source": [
    "#imdb rating\n",
    "first_imdb = first_movie.strong.text\n",
    "first_imdb"
   ]
  },
  {
   "cell_type": "code",
   "execution_count": 320,
   "metadata": {},
   "outputs": [
    {
     "name": "stdout",
     "output_type": "stream",
     "text": [
      "59        \n"
     ]
    }
   ],
   "source": [
    "#metasocre\n",
    "first_mscore = first_page.find('span', class_ = 'metascore mixed')\n",
    "first_mscore = first_mscore.text\n",
    "print(first_mscore)"
   ]
  },
  {
   "cell_type": "code",
   "execution_count": 329,
   "metadata": {},
   "outputs": [
    {
     "name": "stdout",
     "output_type": "stream",
     "text": [
      "<span data-value=\"669072\" name=\"nv\">669,072</span>\n"
     ]
    }
   ],
   "source": [
    "#votes\n",
    "first_votes = first_page.find('span', attrs = {'name':'nv'})\n",
    "print(first_votes)"
   ]
  },
  {
   "cell_type": "code",
   "execution_count": 322,
   "metadata": {},
   "outputs": [
    {
     "data": {
      "text/plain": [
       "'669,072'"
      ]
     },
     "execution_count": 322,
     "metadata": {},
     "output_type": "execute_result"
    }
   ],
   "source": [
    "first_votes.text"
   ]
  },
  {
   "cell_type": "code",
   "execution_count": 323,
   "metadata": {
    "scrolled": false
   },
   "outputs": [
    {
     "name": "stdout",
     "output_type": "stream",
     "text": [
      "<div class=\"inline-block ratings-metascore\">\n",
      "<span class=\"metascore mixed\">53        </span>\n",
      "        Metascore\n",
      "            </div>\n"
     ]
    }
   ],
   "source": [
    "top_movie_mscore = container[14].find('div', class_ = 'ratings-metascore')\n",
    "print(top_movie_mscore)"
   ]
  },
  {
   "cell_type": "markdown",
   "metadata": {},
   "source": [
    "### Findings"
   ]
  },
  {
   "cell_type": "markdown",
   "metadata": {},
   "source": [
    "Now we have done scraping for the information we need to put the information into a dataframe. To do that I am going to create empty lists for the variables - names, years, ratings, genres and votes."
   ]
  },
  {
   "cell_type": "code",
   "execution_count": 292,
   "metadata": {},
   "outputs": [],
   "source": [
    "#Create empty lists for dataframe\n",
    "names = []\n",
    "years = []\n",
    "imdb_ratings = []\n",
    "metascores = []\n",
    "genres = []\n",
    "votes = []\n",
    "# Extract data from individual movie container\n",
    "for container in container:\n",
    "# If the movie has Metascore, then extract:\n",
    "    if container.find('div', class_ = 'ratings-metascore') is not None:\n",
    "        name = container.h3.a.text\n",
    "        names.append(name)\n",
    "        year = container.h3.find('span', class_ = 'lister-item-year').text\n",
    "        years.append(year)\n",
    "        imdb = float(container.strong.text)\n",
    "        imdb_ratings.append(imdb)\n",
    "        m_score = container.find('span', class_ = 'metascore').text\n",
    "        metascores.append(int(m_score))\n",
    "        genre = container.find('span', class_ = 'genre').text\n",
    "        genres.append(genre)\n",
    "        vote = container.find('span', attrs = {'name':'nv'})['data-value']\n",
    "        votes.append(int(vote))"
   ]
  },
  {
   "cell_type": "code",
   "execution_count": 293,
   "metadata": {},
   "outputs": [
    {
     "data": {
      "text/html": [
       "<div>\n",
       "<style scoped>\n",
       "    .dataframe tbody tr th:only-of-type {\n",
       "        vertical-align: middle;\n",
       "    }\n",
       "\n",
       "    .dataframe tbody tr th {\n",
       "        vertical-align: top;\n",
       "    }\n",
       "\n",
       "    .dataframe thead th {\n",
       "        text-align: right;\n",
       "    }\n",
       "</style>\n",
       "<table border=\"1\" class=\"dataframe\">\n",
       "  <thead>\n",
       "    <tr style=\"text-align: right;\">\n",
       "      <th></th>\n",
       "      <th>movie</th>\n",
       "      <th>year</th>\n",
       "      <th>imdb</th>\n",
       "      <th>metascore</th>\n",
       "      <th>votes</th>\n",
       "      <th>genre</th>\n",
       "    </tr>\n",
       "  </thead>\n",
       "  <tbody>\n",
       "    <tr>\n",
       "      <th>0</th>\n",
       "      <td>Joker</td>\n",
       "      <td>(2019)</td>\n",
       "      <td>8.6</td>\n",
       "      <td>59</td>\n",
       "      <td>669072</td>\n",
       "      <td>\\nCrime, Drama, Thriller</td>\n",
       "    </tr>\n",
       "    <tr>\n",
       "      <th>1</th>\n",
       "      <td>Avengers: Endgame</td>\n",
       "      <td>(2019)</td>\n",
       "      <td>8.5</td>\n",
       "      <td>78</td>\n",
       "      <td>664627</td>\n",
       "      <td>\\nAction, Adventure, Drama</td>\n",
       "    </tr>\n",
       "    <tr>\n",
       "      <th>2</th>\n",
       "      <td>Captain Marvel</td>\n",
       "      <td>(2019)</td>\n",
       "      <td>6.9</td>\n",
       "      <td>64</td>\n",
       "      <td>393694</td>\n",
       "      <td>\\nAction, Adventure, Sci-Fi</td>\n",
       "    </tr>\n",
       "    <tr>\n",
       "      <th>3</th>\n",
       "      <td>Once Upon a Time... in Hollywood</td>\n",
       "      <td>(2019)</td>\n",
       "      <td>7.7</td>\n",
       "      <td>83</td>\n",
       "      <td>377962</td>\n",
       "      <td>\\nComedy, Drama</td>\n",
       "    </tr>\n",
       "    <tr>\n",
       "      <th>4</th>\n",
       "      <td>Spider-Man: Far from Home</td>\n",
       "      <td>(2019)</td>\n",
       "      <td>7.6</td>\n",
       "      <td>69</td>\n",
       "      <td>261998</td>\n",
       "      <td>\\nAction, Adventure, Sci-Fi</td>\n",
       "    </tr>\n",
       "  </tbody>\n",
       "</table>\n",
       "</div>"
      ],
      "text/plain": [
       "                              movie    year  imdb  metascore   votes  \\\n",
       "0                             Joker  (2019)   8.6         59  669072   \n",
       "1                 Avengers: Endgame  (2019)   8.5         78  664627   \n",
       "2                    Captain Marvel  (2019)   6.9         64  393694   \n",
       "3  Once Upon a Time... in Hollywood  (2019)   7.7         83  377962   \n",
       "4         Spider-Man: Far from Home  (2019)   7.6         69  261998   \n",
       "\n",
       "                                     genre  \n",
       "0     \\nCrime, Drama, Thriller              \n",
       "1   \\nAction, Adventure, Drama              \n",
       "2  \\nAction, Adventure, Sci-Fi              \n",
       "3              \\nComedy, Drama              \n",
       "4  \\nAction, Adventure, Sci-Fi              "
      ]
     },
     "execution_count": 293,
     "metadata": {},
     "output_type": "execute_result"
    }
   ],
   "source": [
    "#displaying the dataframe\n",
    "df = pd.DataFrame({'movie': names,\n",
    "'year': years,\n",
    "'imdb': imdb_ratings,\n",
    "'metascore': metascores,                        \n",
    "'votes': votes,\n",
    "'genre':genres\n",
    "})\n",
    "df.head()"
   ]
  },
  {
   "cell_type": "markdown",
   "metadata": {},
   "source": [
    "There you go! We have successfully converting our data into the dataframe! As you can see the ratings between imdb and metascore aren't exactly compatible. The shortest distance I can see here is Captain Marvel. There is only a 5 points difference between the two scores. \n",
    "\n",
    "Now that we are done inspecting the first page. I want to see all the movie data for 2019. And because webscraping will take a lot of time loading, I am going to control the crawl rate to avoid trafficing the server. I am going to create a loop and control the rate by using the sleep function."
   ]
  },
  {
   "cell_type": "code",
   "execution_count": 331,
   "metadata": {},
   "outputs": [],
   "source": [
    "#only grabbing movies from 2019\n",
    "pages = [str(i) for i in range(1,5)]\n",
    "years_url = [str(i) for i in range(2019,2020)]"
   ]
  },
  {
   "cell_type": "code",
   "execution_count": 333,
   "metadata": {},
   "outputs": [],
   "source": [
    "from time import time;start_time = time()\n",
    "requests = 0\n",
    "for _ in range(5):\n",
    "    requests += 1\n",
    "    sleep(randint(1,3))\n",
    "    elapsed = time() - start_time"
   ]
  },
  {
   "cell_type": "code",
   "execution_count": 404,
   "metadata": {
    "scrolled": true
   },
   "outputs": [
    {
     "name": "stdout",
     "output_type": "stream",
     "text": [
      "Request:1; Frequency: 0.07688102821160597 requests/s\n",
      "Request:2; Frequency: 0.06979960760286628 requests/s\n",
      "Request:3; Frequency: 0.06838604357340473 requests/s\n",
      "Request:4; Frequency: 0.07157997179520045 requests/s\n"
     ]
    }
   ],
   "source": [
    "#Empty lists for variables\n",
    "names = []\n",
    "years = []\n",
    "imdb_ratings = []\n",
    "metascores = []\n",
    "genres = []\n",
    "votes = []\n",
    "\n",
    "# loop control\n",
    "start_time = time()\n",
    "requests = 0\n",
    "\n",
    "#grabbing 2019\n",
    "for year_url in years_url:\n",
    "\n",
    "    for page in pages:\n",
    "\n",
    "        # Make a get request\n",
    "        response = get('http://www.imdb.com/search/title?release_date=' + year_url +\n",
    "        '&sort=num_votes,desc&page=' + page, headers = headers)\n",
    "        #break the loop\n",
    "        sleep(randint(8,15))\n",
    "        #checking the requests\n",
    "        requests += 1\n",
    "        elapsed = time() - start_time\n",
    "        print('Request:{}; Frequency: {} requests/s'.format(requests, requests/elapsed))\n",
    "        if response.status_code != 200:\n",
    "            warn('Request: {}; Status code: {}'.format(requests, response.status_code))\n",
    "        # Parsing the page\n",
    "        page_html = BeautifulSoup(response.text, 'lxml')\n",
    "\n",
    "        movie_containers = page_html.find_all('div', class_ = 'lister-item mode-advanced')\n",
    "\n",
    "        for container in movie_containers:\n",
    "            if container.find('div', class_ = 'ratings-metascore') is not None:\n",
    "\n",
    "                name = container.h3.a.text\n",
    "                names.append(name)\n",
    "\n",
    "                year = container.h3.find('span', class_ = 'lister-item-year').text\n",
    "                years.append(year)\n",
    "                \n",
    "                imdb = float(container.strong.text)\n",
    "                imdb_ratings.append(imdb)\n",
    "\n",
    "                m_score = container.find('span', class_ = 'metascore').text\n",
    "                metascores.append(int(m_score))\n",
    "\n",
    "                genre = container.find('span', class_ = 'genre').text\n",
    "                genres.append(genre)"
   ]
  },
  {
   "cell_type": "markdown",
   "metadata": {},
   "source": [
    "Looks like we are done scraping! let's see what we got!"
   ]
  },
  {
   "cell_type": "code",
   "execution_count": 399,
   "metadata": {},
   "outputs": [
    {
     "name": "stdout",
     "output_type": "stream",
     "text": [
      "<class 'pandas.core.frame.DataFrame'>\n",
      "RangeIndex: 152 entries, 0 to 151\n",
      "Data columns (total 5 columns):\n",
      "movie        152 non-null object\n",
      "year         152 non-null object\n",
      "imdb         152 non-null float64\n",
      "metascore    152 non-null int64\n",
      "genre        152 non-null object\n",
      "dtypes: float64(1), int64(1), object(3)\n",
      "memory usage: 6.0+ KB\n",
      "None\n"
     ]
    }
   ],
   "source": [
    "movie_ratings = pd.DataFrame({'movie': names,\n",
    "'year': years,\n",
    "'imdb': imdb_ratings,\n",
    "'metascore': metascores,\n",
    "'genre':genres,\n",
    "})\n",
    "print(movie_ratings.info())"
   ]
  },
  {
   "cell_type": "code",
   "execution_count": 400,
   "metadata": {},
   "outputs": [
    {
     "data": {
      "text/html": [
       "<div>\n",
       "<style scoped>\n",
       "    .dataframe tbody tr th:only-of-type {\n",
       "        vertical-align: middle;\n",
       "    }\n",
       "\n",
       "    .dataframe tbody tr th {\n",
       "        vertical-align: top;\n",
       "    }\n",
       "\n",
       "    .dataframe thead th {\n",
       "        text-align: right;\n",
       "    }\n",
       "</style>\n",
       "<table border=\"1\" class=\"dataframe\">\n",
       "  <thead>\n",
       "    <tr style=\"text-align: right;\">\n",
       "      <th></th>\n",
       "      <th>movie</th>\n",
       "      <th>year</th>\n",
       "      <th>imdb</th>\n",
       "      <th>metascore</th>\n",
       "      <th>genre</th>\n",
       "    </tr>\n",
       "  </thead>\n",
       "  <tbody>\n",
       "    <tr>\n",
       "      <th>0</th>\n",
       "      <td>Joker</td>\n",
       "      <td>(2019)</td>\n",
       "      <td>8.6</td>\n",
       "      <td>59</td>\n",
       "      <td>\\nCrime, Drama, Thriller</td>\n",
       "    </tr>\n",
       "    <tr>\n",
       "      <th>1</th>\n",
       "      <td>Avengers: Endgame</td>\n",
       "      <td>(2019)</td>\n",
       "      <td>8.5</td>\n",
       "      <td>78</td>\n",
       "      <td>\\nAction, Adventure, Drama</td>\n",
       "    </tr>\n",
       "    <tr>\n",
       "      <th>2</th>\n",
       "      <td>Captain Marvel</td>\n",
       "      <td>(2019)</td>\n",
       "      <td>6.9</td>\n",
       "      <td>64</td>\n",
       "      <td>\\nAction, Adventure, Sci-Fi</td>\n",
       "    </tr>\n",
       "    <tr>\n",
       "      <th>3</th>\n",
       "      <td>Once Upon a Time... in Hollywood</td>\n",
       "      <td>(2019)</td>\n",
       "      <td>7.7</td>\n",
       "      <td>83</td>\n",
       "      <td>\\nComedy, Drama</td>\n",
       "    </tr>\n",
       "    <tr>\n",
       "      <th>4</th>\n",
       "      <td>Spider-Man: Far from Home</td>\n",
       "      <td>(2019)</td>\n",
       "      <td>7.6</td>\n",
       "      <td>69</td>\n",
       "      <td>\\nAction, Adventure, Sci-Fi</td>\n",
       "    </tr>\n",
       "    <tr>\n",
       "      <th>5</th>\n",
       "      <td>Star Wars: Episode IX - The Rise of Skywalker</td>\n",
       "      <td>(2019)</td>\n",
       "      <td>6.9</td>\n",
       "      <td>53</td>\n",
       "      <td>\\nAction, Adventure, Fantasy</td>\n",
       "    </tr>\n",
       "    <tr>\n",
       "      <th>6</th>\n",
       "      <td>The Irishman</td>\n",
       "      <td>(2019)</td>\n",
       "      <td>8.0</td>\n",
       "      <td>94</td>\n",
       "      <td>\\nBiography, Crime, Drama</td>\n",
       "    </tr>\n",
       "    <tr>\n",
       "      <th>7</th>\n",
       "      <td>Parasite</td>\n",
       "      <td>(2019)</td>\n",
       "      <td>8.6</td>\n",
       "      <td>96</td>\n",
       "      <td>\\nComedy, Crime, Drama</td>\n",
       "    </tr>\n",
       "    <tr>\n",
       "      <th>8</th>\n",
       "      <td>John Wick: Chapter 3 - Parabellum</td>\n",
       "      <td>(2019)</td>\n",
       "      <td>7.5</td>\n",
       "      <td>73</td>\n",
       "      <td>\\nAction, Crime, Thriller</td>\n",
       "    </tr>\n",
       "    <tr>\n",
       "      <th>9</th>\n",
       "      <td>Shazam!</td>\n",
       "      <td>(2019)</td>\n",
       "      <td>7.1</td>\n",
       "      <td>71</td>\n",
       "      <td>\\nAction, Adventure, Comedy</td>\n",
       "    </tr>\n",
       "  </tbody>\n",
       "</table>\n",
       "</div>"
      ],
      "text/plain": [
       "                                           movie    year  imdb  metascore  \\\n",
       "0                                          Joker  (2019)   8.6         59   \n",
       "1                              Avengers: Endgame  (2019)   8.5         78   \n",
       "2                                 Captain Marvel  (2019)   6.9         64   \n",
       "3               Once Upon a Time... in Hollywood  (2019)   7.7         83   \n",
       "4                      Spider-Man: Far from Home  (2019)   7.6         69   \n",
       "5  Star Wars: Episode IX - The Rise of Skywalker  (2019)   6.9         53   \n",
       "6                                   The Irishman  (2019)   8.0         94   \n",
       "7                                       Parasite  (2019)   8.6         96   \n",
       "8              John Wick: Chapter 3 - Parabellum  (2019)   7.5         73   \n",
       "9                                        Shazam!  (2019)   7.1         71   \n",
       "\n",
       "                                      genre  \n",
       "0      \\nCrime, Drama, Thriller              \n",
       "1    \\nAction, Adventure, Drama              \n",
       "2   \\nAction, Adventure, Sci-Fi              \n",
       "3               \\nComedy, Drama              \n",
       "4   \\nAction, Adventure, Sci-Fi              \n",
       "5  \\nAction, Adventure, Fantasy              \n",
       "6     \\nBiography, Crime, Drama              \n",
       "7        \\nComedy, Crime, Drama              \n",
       "8     \\nAction, Crime, Thriller              \n",
       "9   \\nAction, Adventure, Comedy              "
      ]
     },
     "execution_count": 400,
     "metadata": {},
     "output_type": "execute_result"
    }
   ],
   "source": [
    "movie_ratings.head(10)"
   ]
  },
  {
   "cell_type": "markdown",
   "metadata": {},
   "source": [
    "Looks like we grabbed what we wanted. I can see that the rating scale between imdb and metascore is a little different. To afraid confusion I am going to change the scale for imdb."
   ]
  },
  {
   "cell_type": "code",
   "execution_count": 401,
   "metadata": {
    "scrolled": false
   },
   "outputs": [
    {
     "data": {
      "text/html": [
       "<div>\n",
       "<style scoped>\n",
       "    .dataframe tbody tr th:only-of-type {\n",
       "        vertical-align: middle;\n",
       "    }\n",
       "\n",
       "    .dataframe tbody tr th {\n",
       "        vertical-align: top;\n",
       "    }\n",
       "\n",
       "    .dataframe thead th {\n",
       "        text-align: right;\n",
       "    }\n",
       "</style>\n",
       "<table border=\"1\" class=\"dataframe\">\n",
       "  <thead>\n",
       "    <tr style=\"text-align: right;\">\n",
       "      <th></th>\n",
       "      <th>movie</th>\n",
       "      <th>year</th>\n",
       "      <th>imdb</th>\n",
       "      <th>metascore</th>\n",
       "      <th>genre</th>\n",
       "      <th>n_imdb</th>\n",
       "    </tr>\n",
       "  </thead>\n",
       "  <tbody>\n",
       "    <tr>\n",
       "      <th>0</th>\n",
       "      <td>Joker</td>\n",
       "      <td>(2019)</td>\n",
       "      <td>8.6</td>\n",
       "      <td>59</td>\n",
       "      <td>\\nCrime, Drama, Thriller</td>\n",
       "      <td>86.0</td>\n",
       "    </tr>\n",
       "    <tr>\n",
       "      <th>1</th>\n",
       "      <td>Avengers: Endgame</td>\n",
       "      <td>(2019)</td>\n",
       "      <td>8.5</td>\n",
       "      <td>78</td>\n",
       "      <td>\\nAction, Adventure, Drama</td>\n",
       "      <td>85.0</td>\n",
       "    </tr>\n",
       "    <tr>\n",
       "      <th>2</th>\n",
       "      <td>Captain Marvel</td>\n",
       "      <td>(2019)</td>\n",
       "      <td>6.9</td>\n",
       "      <td>64</td>\n",
       "      <td>\\nAction, Adventure, Sci-Fi</td>\n",
       "      <td>69.0</td>\n",
       "    </tr>\n",
       "    <tr>\n",
       "      <th>3</th>\n",
       "      <td>Once Upon a Time... in Hollywood</td>\n",
       "      <td>(2019)</td>\n",
       "      <td>7.7</td>\n",
       "      <td>83</td>\n",
       "      <td>\\nComedy, Drama</td>\n",
       "      <td>77.0</td>\n",
       "    </tr>\n",
       "    <tr>\n",
       "      <th>4</th>\n",
       "      <td>Spider-Man: Far from Home</td>\n",
       "      <td>(2019)</td>\n",
       "      <td>7.6</td>\n",
       "      <td>69</td>\n",
       "      <td>\\nAction, Adventure, Sci-Fi</td>\n",
       "      <td>76.0</td>\n",
       "    </tr>\n",
       "  </tbody>\n",
       "</table>\n",
       "</div>"
      ],
      "text/plain": [
       "                              movie    year  imdb  metascore  \\\n",
       "0                             Joker  (2019)   8.6         59   \n",
       "1                 Avengers: Endgame  (2019)   8.5         78   \n",
       "2                    Captain Marvel  (2019)   6.9         64   \n",
       "3  Once Upon a Time... in Hollywood  (2019)   7.7         83   \n",
       "4         Spider-Man: Far from Home  (2019)   7.6         69   \n",
       "\n",
       "                                     genre  n_imdb  \n",
       "0     \\nCrime, Drama, Thriller                86.0  \n",
       "1   \\nAction, Adventure, Drama                85.0  \n",
       "2  \\nAction, Adventure, Sci-Fi                69.0  \n",
       "3              \\nComedy, Drama                77.0  \n",
       "4  \\nAction, Adventure, Sci-Fi                76.0  "
      ]
     },
     "execution_count": 401,
     "metadata": {},
     "output_type": "execute_result"
    }
   ],
   "source": [
    "movie_ratings['n_imdb'] = movie_ratings['imdb'] * 10\n",
    "movie_ratings.head()"
   ]
  },
  {
   "cell_type": "markdown",
   "metadata": {},
   "source": [
    "Now, to compare the difference between metascore and IMDB. I want to sort the values for both IMDB and metascore. Let's look at the metascore first."
   ]
  },
  {
   "cell_type": "code",
   "execution_count": 402,
   "metadata": {
    "scrolled": true
   },
   "outputs": [
    {
     "data": {
      "text/html": [
       "<div>\n",
       "<style scoped>\n",
       "    .dataframe tbody tr th:only-of-type {\n",
       "        vertical-align: middle;\n",
       "    }\n",
       "\n",
       "    .dataframe tbody tr th {\n",
       "        vertical-align: top;\n",
       "    }\n",
       "\n",
       "    .dataframe thead th {\n",
       "        text-align: right;\n",
       "    }\n",
       "</style>\n",
       "<table border=\"1\" class=\"dataframe\">\n",
       "  <thead>\n",
       "    <tr style=\"text-align: right;\">\n",
       "      <th></th>\n",
       "      <th>movie</th>\n",
       "      <th>year</th>\n",
       "      <th>imdb</th>\n",
       "      <th>metascore</th>\n",
       "      <th>genre</th>\n",
       "      <th>n_imdb</th>\n",
       "    </tr>\n",
       "  </thead>\n",
       "  <tbody>\n",
       "    <tr>\n",
       "      <th>45</th>\n",
       "      <td>Parasite</td>\n",
       "      <td>(2019)</td>\n",
       "      <td>8.6</td>\n",
       "      <td>96</td>\n",
       "      <td>\\nComedy, Crime, Drama</td>\n",
       "      <td>86.0</td>\n",
       "    </tr>\n",
       "    <tr>\n",
       "      <th>82</th>\n",
       "      <td>The Irishman</td>\n",
       "      <td>(2019)</td>\n",
       "      <td>8.0</td>\n",
       "      <td>94</td>\n",
       "      <td>\\nBiography, Crime, Drama</td>\n",
       "      <td>80.0</td>\n",
       "    </tr>\n",
       "    <tr>\n",
       "      <th>15</th>\n",
       "      <td>Marriage Story</td>\n",
       "      <td>(2019)</td>\n",
       "      <td>8.0</td>\n",
       "      <td>93</td>\n",
       "      <td>\\nComedy, Drama, Romance</td>\n",
       "      <td>80.0</td>\n",
       "    </tr>\n",
       "    <tr>\n",
       "      <th>72</th>\n",
       "      <td>Uncut Gems</td>\n",
       "      <td>(2019)</td>\n",
       "      <td>7.7</td>\n",
       "      <td>90</td>\n",
       "      <td>\\nCrime, Drama, Thriller</td>\n",
       "      <td>77.0</td>\n",
       "    </tr>\n",
       "    <tr>\n",
       "      <th>95</th>\n",
       "      <td>Toy Story 4</td>\n",
       "      <td>(2019)</td>\n",
       "      <td>7.9</td>\n",
       "      <td>84</td>\n",
       "      <td>\\nAnimation, Adventure, Comedy</td>\n",
       "      <td>79.0</td>\n",
       "    </tr>\n",
       "    <tr>\n",
       "      <th>41</th>\n",
       "      <td>Once Upon a Time... in Hollywood</td>\n",
       "      <td>(2019)</td>\n",
       "      <td>7.7</td>\n",
       "      <td>83</td>\n",
       "      <td>\\nComedy, Drama</td>\n",
       "      <td>77.0</td>\n",
       "    </tr>\n",
       "    <tr>\n",
       "      <th>55</th>\n",
       "      <td>Knives Out</td>\n",
       "      <td>(2019)</td>\n",
       "      <td>8.0</td>\n",
       "      <td>82</td>\n",
       "      <td>\\nComedy, Crime, Drama</td>\n",
       "      <td>80.0</td>\n",
       "    </tr>\n",
       "    <tr>\n",
       "      <th>98</th>\n",
       "      <td>Ford v Ferrari</td>\n",
       "      <td>(2019)</td>\n",
       "      <td>8.2</td>\n",
       "      <td>81</td>\n",
       "      <td>\\nAction, Biography, Drama</td>\n",
       "      <td>82.0</td>\n",
       "    </tr>\n",
       "    <tr>\n",
       "      <th>50</th>\n",
       "      <td>Us</td>\n",
       "      <td>(II) (2019)</td>\n",
       "      <td>6.9</td>\n",
       "      <td>81</td>\n",
       "      <td>\\nHorror, Mystery, Thriller</td>\n",
       "      <td>69.0</td>\n",
       "    </tr>\n",
       "    <tr>\n",
       "      <th>135</th>\n",
       "      <td>Ad Astra</td>\n",
       "      <td>(2019)</td>\n",
       "      <td>6.6</td>\n",
       "      <td>80</td>\n",
       "      <td>\\nAdventure, Drama, Mystery</td>\n",
       "      <td>66.0</td>\n",
       "    </tr>\n",
       "    <tr>\n",
       "      <th>90</th>\n",
       "      <td>1917</td>\n",
       "      <td>(2019)</td>\n",
       "      <td>8.5</td>\n",
       "      <td>78</td>\n",
       "      <td>\\nDrama, War</td>\n",
       "      <td>85.0</td>\n",
       "    </tr>\n",
       "    <tr>\n",
       "      <th>115</th>\n",
       "      <td>Avengers: Endgame</td>\n",
       "      <td>(2019)</td>\n",
       "      <td>8.5</td>\n",
       "      <td>78</td>\n",
       "      <td>\\nAction, Adventure, Drama</td>\n",
       "      <td>85.0</td>\n",
       "    </tr>\n",
       "    <tr>\n",
       "      <th>46</th>\n",
       "      <td>John Wick: Chapter 3 - Parabellum</td>\n",
       "      <td>(2019)</td>\n",
       "      <td>7.5</td>\n",
       "      <td>73</td>\n",
       "      <td>\\nAction, Crime, Thriller</td>\n",
       "      <td>75.0</td>\n",
       "    </tr>\n",
       "  </tbody>\n",
       "</table>\n",
       "</div>"
      ],
      "text/plain": [
       "                                 movie         year  imdb  metascore  \\\n",
       "45                            Parasite       (2019)   8.6         96   \n",
       "82                        The Irishman       (2019)   8.0         94   \n",
       "15                      Marriage Story       (2019)   8.0         93   \n",
       "72                          Uncut Gems       (2019)   7.7         90   \n",
       "95                         Toy Story 4       (2019)   7.9         84   \n",
       "41    Once Upon a Time... in Hollywood       (2019)   7.7         83   \n",
       "55                          Knives Out       (2019)   8.0         82   \n",
       "98                      Ford v Ferrari       (2019)   8.2         81   \n",
       "50                                  Us  (II) (2019)   6.9         81   \n",
       "135                           Ad Astra       (2019)   6.6         80   \n",
       "90                                1917       (2019)   8.5         78   \n",
       "115                  Avengers: Endgame       (2019)   8.5         78   \n",
       "46   John Wick: Chapter 3 - Parabellum       (2019)   7.5         73   \n",
       "\n",
       "                                          genre  n_imdb  \n",
       "45           \\nComedy, Crime, Drama                86.0  \n",
       "82        \\nBiography, Crime, Drama                80.0  \n",
       "15         \\nComedy, Drama, Romance                80.0  \n",
       "72         \\nCrime, Drama, Thriller                77.0  \n",
       "95   \\nAnimation, Adventure, Comedy                79.0  \n",
       "41                  \\nComedy, Drama                77.0  \n",
       "55           \\nComedy, Crime, Drama                80.0  \n",
       "98       \\nAction, Biography, Drama                82.0  \n",
       "50      \\nHorror, Mystery, Thriller                69.0  \n",
       "135     \\nAdventure, Drama, Mystery                66.0  \n",
       "90                     \\nDrama, War                85.0  \n",
       "115      \\nAction, Adventure, Drama                85.0  \n",
       "46        \\nAction, Crime, Thriller                75.0  "
      ]
     },
     "execution_count": 402,
     "metadata": {},
     "output_type": "execute_result"
    }
   ],
   "source": [
    "top_meta = movie_ratings.sort_values(by=['metascore'], ascending = False).head(50)\n",
    "#dropping duplicates\n",
    "top_meta.drop_duplicates()"
   ]
  },
  {
   "cell_type": "markdown",
   "metadata": {},
   "source": [
    "The top 3 are Parasite, The Irishman and Marriage Story. If you have seen the oscar award 2020 you would know these 3 movies are either nominated or won awards. Now I want to see the top IMDB score."
   ]
  },
  {
   "cell_type": "code",
   "execution_count": 403,
   "metadata": {},
   "outputs": [
    {
     "data": {
      "text/html": [
       "<div>\n",
       "<style scoped>\n",
       "    .dataframe tbody tr th:only-of-type {\n",
       "        vertical-align: middle;\n",
       "    }\n",
       "\n",
       "    .dataframe tbody tr th {\n",
       "        vertical-align: top;\n",
       "    }\n",
       "\n",
       "    .dataframe thead th {\n",
       "        text-align: right;\n",
       "    }\n",
       "</style>\n",
       "<table border=\"1\" class=\"dataframe\">\n",
       "  <thead>\n",
       "    <tr style=\"text-align: right;\">\n",
       "      <th></th>\n",
       "      <th>movie</th>\n",
       "      <th>year</th>\n",
       "      <th>imdb</th>\n",
       "      <th>metascore</th>\n",
       "      <th>genre</th>\n",
       "      <th>n_imdb</th>\n",
       "    </tr>\n",
       "  </thead>\n",
       "  <tbody>\n",
       "    <tr>\n",
       "      <th>0</th>\n",
       "      <td>Joker</td>\n",
       "      <td>(2019)</td>\n",
       "      <td>8.6</td>\n",
       "      <td>59</td>\n",
       "      <td>\\nCrime, Drama, Thriller</td>\n",
       "      <td>86.0</td>\n",
       "    </tr>\n",
       "    <tr>\n",
       "      <th>7</th>\n",
       "      <td>Parasite</td>\n",
       "      <td>(2019)</td>\n",
       "      <td>8.6</td>\n",
       "      <td>96</td>\n",
       "      <td>\\nComedy, Crime, Drama</td>\n",
       "      <td>86.0</td>\n",
       "    </tr>\n",
       "    <tr>\n",
       "      <th>115</th>\n",
       "      <td>Avengers: Endgame</td>\n",
       "      <td>(2019)</td>\n",
       "      <td>8.5</td>\n",
       "      <td>78</td>\n",
       "      <td>\\nAction, Adventure, Drama</td>\n",
       "      <td>85.0</td>\n",
       "    </tr>\n",
       "    <tr>\n",
       "      <th>128</th>\n",
       "      <td>1917</td>\n",
       "      <td>(2019)</td>\n",
       "      <td>8.5</td>\n",
       "      <td>78</td>\n",
       "      <td>\\nDrama, War</td>\n",
       "      <td>85.0</td>\n",
       "    </tr>\n",
       "    <tr>\n",
       "      <th>60</th>\n",
       "      <td>Ford v Ferrari</td>\n",
       "      <td>(2019)</td>\n",
       "      <td>8.2</td>\n",
       "      <td>81</td>\n",
       "      <td>\\nAction, Biography, Drama</td>\n",
       "      <td>82.0</td>\n",
       "    </tr>\n",
       "    <tr>\n",
       "      <th>44</th>\n",
       "      <td>The Irishman</td>\n",
       "      <td>(2019)</td>\n",
       "      <td>8.0</td>\n",
       "      <td>94</td>\n",
       "      <td>\\nBiography, Crime, Drama</td>\n",
       "      <td>80.0</td>\n",
       "    </tr>\n",
       "    <tr>\n",
       "      <th>53</th>\n",
       "      <td>Marriage Story</td>\n",
       "      <td>(2019)</td>\n",
       "      <td>8.0</td>\n",
       "      <td>93</td>\n",
       "      <td>\\nComedy, Drama, Romance</td>\n",
       "      <td>80.0</td>\n",
       "    </tr>\n",
       "    <tr>\n",
       "      <th>65</th>\n",
       "      <td>Jojo Rabbit</td>\n",
       "      <td>(2019)</td>\n",
       "      <td>8.0</td>\n",
       "      <td>58</td>\n",
       "      <td>\\nComedy, Drama, War</td>\n",
       "      <td>80.0</td>\n",
       "    </tr>\n",
       "    <tr>\n",
       "      <th>55</th>\n",
       "      <td>Knives Out</td>\n",
       "      <td>(2019)</td>\n",
       "      <td>8.0</td>\n",
       "      <td>82</td>\n",
       "      <td>\\nComedy, Crime, Drama</td>\n",
       "      <td>80.0</td>\n",
       "    </tr>\n",
       "    <tr>\n",
       "      <th>57</th>\n",
       "      <td>Toy Story 4</td>\n",
       "      <td>(2019)</td>\n",
       "      <td>7.9</td>\n",
       "      <td>84</td>\n",
       "      <td>\\nAnimation, Adventure, Comedy</td>\n",
       "      <td>79.0</td>\n",
       "    </tr>\n",
       "    <tr>\n",
       "      <th>72</th>\n",
       "      <td>Uncut Gems</td>\n",
       "      <td>(2019)</td>\n",
       "      <td>7.7</td>\n",
       "      <td>90</td>\n",
       "      <td>\\nCrime, Drama, Thriller</td>\n",
       "      <td>77.0</td>\n",
       "    </tr>\n",
       "    <tr>\n",
       "      <th>3</th>\n",
       "      <td>Once Upon a Time... in Hollywood</td>\n",
       "      <td>(2019)</td>\n",
       "      <td>7.7</td>\n",
       "      <td>83</td>\n",
       "      <td>\\nComedy, Drama</td>\n",
       "      <td>77.0</td>\n",
       "    </tr>\n",
       "    <tr>\n",
       "      <th>80</th>\n",
       "      <td>Spider-Man: Far from Home</td>\n",
       "      <td>(2019)</td>\n",
       "      <td>7.6</td>\n",
       "      <td>69</td>\n",
       "      <td>\\nAction, Adventure, Sci-Fi</td>\n",
       "      <td>76.0</td>\n",
       "    </tr>\n",
       "  </tbody>\n",
       "</table>\n",
       "</div>"
      ],
      "text/plain": [
       "                                movie    year  imdb  metascore  \\\n",
       "0                               Joker  (2019)   8.6         59   \n",
       "7                            Parasite  (2019)   8.6         96   \n",
       "115                 Avengers: Endgame  (2019)   8.5         78   \n",
       "128                              1917  (2019)   8.5         78   \n",
       "60                     Ford v Ferrari  (2019)   8.2         81   \n",
       "44                       The Irishman  (2019)   8.0         94   \n",
       "53                     Marriage Story  (2019)   8.0         93   \n",
       "65                        Jojo Rabbit  (2019)   8.0         58   \n",
       "55                         Knives Out  (2019)   8.0         82   \n",
       "57                        Toy Story 4  (2019)   7.9         84   \n",
       "72                         Uncut Gems  (2019)   7.7         90   \n",
       "3    Once Upon a Time... in Hollywood  (2019)   7.7         83   \n",
       "80          Spider-Man: Far from Home  (2019)   7.6         69   \n",
       "\n",
       "                                          genre  n_imdb  \n",
       "0          \\nCrime, Drama, Thriller                86.0  \n",
       "7            \\nComedy, Crime, Drama                86.0  \n",
       "115      \\nAction, Adventure, Drama                85.0  \n",
       "128                    \\nDrama, War                85.0  \n",
       "60       \\nAction, Biography, Drama                82.0  \n",
       "44        \\nBiography, Crime, Drama                80.0  \n",
       "53         \\nComedy, Drama, Romance                80.0  \n",
       "65             \\nComedy, Drama, War                80.0  \n",
       "55           \\nComedy, Crime, Drama                80.0  \n",
       "57   \\nAnimation, Adventure, Comedy                79.0  \n",
       "72         \\nCrime, Drama, Thriller                77.0  \n",
       "3                   \\nComedy, Drama                77.0  \n",
       "80      \\nAction, Adventure, Sci-Fi                76.0  "
      ]
     },
     "execution_count": 403,
     "metadata": {},
     "output_type": "execute_result"
    }
   ],
   "source": [
    "top_imdb = movie_ratings.sort_values(by=['n_imdb'], ascending = False).head(50)\n",
    "#dropping duplicates\n",
    "top_imdb.drop_duplicates()"
   ]
  },
  {
   "cell_type": "markdown",
   "metadata": {},
   "source": [
    "The result is interesting, we can still see Parasite on the top3, but the other two are Avengers:Endgame and Joker. Quite the difference here."
   ]
  },
  {
   "cell_type": "markdown",
   "metadata": {},
   "source": [
    "### Data Visualization"
   ]
  },
  {
   "cell_type": "markdown",
   "metadata": {},
   "source": [
    "Now, let's see some plots! I want to start by showing the distribution between each genres."
   ]
  },
  {
   "cell_type": "code",
   "execution_count": 177,
   "metadata": {},
   "outputs": [
    {
     "data": {
      "image/png": "[encoded data removed]",
      "text/plain": [
       "<Figure size 936x360 with 1 Axes>"
      ]
     },
     "metadata": {
      "needs_background": "light"
     },
     "output_type": "display_data"
    }
   ],
   "source": [
    "x = movie_ratings.groupby(['genre']).sum().copy()\n",
    "ax2 = x.n_imdb.sort_values(ascending=False).plot(kind='bar', figsize=(13, 5));"
   ]
  },
  {
   "cell_type": "markdown",
   "metadata": {},
   "source": [
    "As seen above, most of the films are action, comedy and sci-fi which is the trend we have right now. Now let's look at the distribution for both ratings from each webstie!"
   ]
  },
  {
   "cell_type": "code",
   "execution_count": 385,
   "metadata": {},
   "outputs": [
    {
     "data": {
      "image/png": "[encoded data removed]",
      "text/plain": [
       "<Figure size 720x504 with 1 Axes>"
      ]
     },
     "metadata": {},
     "output_type": "display_data"
    }
   ],
   "source": [
    "plt.style.use('fivethirtyeight')\n",
    "fig, ax = plt.subplots()\n",
    "fig.set_size_inches(10,7)\n",
    "ax.grid(False)\n",
    "ax.hist(movie_ratings.n_imdb, bins = 20, range = (0,100), color = 'orange')\n",
    "fig.suptitle('The Distribution For IMDB Ratings',fontsize = 15)\n",
    "plt.tight_layout(pad = 6)\n",
    "plt.show()"
   ]
  },
  {
   "cell_type": "markdown",
   "metadata": {},
   "source": [
    "By looking at the IMDb movie rating histogram, we can see that most ratings are between 60 and 80. There are only a few ratings are either greater than 80 or smaller than 60. In addition, Most of the movies are rated around 70. \n",
    "\n",
    "Now let's take a look at Metascore and see the comparison."
   ]
  },
  {
   "cell_type": "code",
   "execution_count": 384,
   "metadata": {},
   "outputs": [
    {
     "data": {
      "image/png": "[encoded data removed]",
      "text/plain": [
       "<Figure size 720x504 with 1 Axes>"
      ]
     },
     "metadata": {},
     "output_type": "display_data"
    }
   ],
   "source": [
    "plt.style.use('fivethirtyeight')\n",
    "fig, ax = plt.subplots()\n",
    "fig.set_size_inches(10,7)\n",
    "ax.grid(False)\n",
    "ax.hist(movie_ratings.metascore, bins = 20, range = (0,100), color = 'cyan')\n",
    "fig.suptitle('The Distribution For Metascore',fontsize = 15)\n",
    "plt.tight_layout(pad = 6)\n",
    "plt.show()"
   ]
  },
  {
   "cell_type": "markdown",
   "metadata": {},
   "source": [
    "It seems like the distribution of Metascore is more normal or spreaded out. Most of the ratings are between 40 to 100. However, there is a little gap around 85. \n",
    "\n",
    "Why don't we take a better look by putting them both into a graph for comparason?"
   ]
  },
  {
   "cell_type": "code",
   "execution_count": 398,
   "metadata": {
    "scrolled": true
   },
   "outputs": [
    {
     "data": {
      "image/png": "[encoded data removed]",
      "text/plain": [
       "<Figure size 720x432 with 1 Axes>"
      ]
     },
     "metadata": {},
     "output_type": "display_data"
    }
   ],
   "source": [
    "%matplotlib inline\n",
    "plt.style.use('fivethirtyeight')\n",
    "movie_ratings['n_imdb'].plot.kde(label = 'IMDB', legend = True, figsize = (10,6), color = 'orange')\n",
    "movie_ratings['metascore'].plot.kde(label = 'Metascore', legend = True, color = 'cyan')\n",
    " \n",
    "plt.title(\"Comparison of IMDB and Metacritic\") \n",
    "plt.xlabel('Ratings')\n",
    "plt.xlim(0,100)\n",
    "plt.show()"
   ]
  },
  {
   "cell_type": "markdown",
   "metadata": {},
   "source": [
    "It’s clear to see that distribution of IMDB movie rating is awfully skewed from the rating 60 to 80 like an intense up and down roller coaster. However, the metascore rating by Metacritic have a more balanced curve."
   ]
  },
  {
   "cell_type": "markdown",
   "metadata": {},
   "source": [
    "### Recommendation"
   ]
  },
  {
   "cell_type": "markdown",
   "metadata": {},
   "source": [
    "After looking at the comparison, I believe the Metacritic might have a better, unbiased and more objective rating even though IMDB might be a popular choice. On the bright side, we know that Metascore from Metacritic is avaiable on IMDB. With that being said, you can still check ratings from both sites and make your own judgement.\n",
    "\n",
    "From what I have known, Metascore is a weighted average of reviews from professional critics and audiences. This explains why it has a more balanced distribution than IMDB. However, the downside of Metacritic is that most non-English movies are not listed on Metacritic where IMDB has.\n",
    "\n",
    "\n",
    "In conclusion, both websites have their unique features. Therefore it really depends on what you are looking for. If you would like to see an accurate ratings given by both critics and audicnes. Metacritic is your go to! But if you want to find information for non mainstream movies or non-English movies. IMDB might offer you for information on that.\n",
    "\n",
    "#### Have fun watching movies!"
   ]
  },
  {
   "cell_type": "code",
   "execution_count": null,
   "metadata": {},
   "outputs": [],
   "source": []
  }
 ],
 "metadata": {
  "kernelspec": {
   "display_name": "Python 3",
   "language": "python",
   "name": "python3"
  },
  "language_info": {
   "codemirror_mode": {
    "name": "ipython",
    "version": 3
   },
   "file_extension": ".py",
   "mimetype": "text/x-python",
   "name": "python",
   "nbconvert_exporter": "python",
   "pygments_lexer": "ipython3",
   "version": "3.7.3"
  }
 },
 "nbformat": 4,
 "nbformat_minor": 2
}
